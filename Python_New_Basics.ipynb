{
  "nbformat": 4,
  "nbformat_minor": 0,
  "metadata": {
    "colab": {
      "provenance": [],
      "authorship_tag": "ABX9TyMzZKMw1v93315SoyHhr7lB",
      "include_colab_link": true
    },
    "kernelspec": {
      "name": "python3",
      "display_name": "Python 3"
    },
    "language_info": {
      "name": "python"
    }
  },
  "cells": [
    {
      "cell_type": "markdown",
      "metadata": {
        "id": "view-in-github",
        "colab_type": "text"
      },
      "source": [
        "<a href=\"https://colab.research.google.com/github/deepiskp-99/Python_New_Basics/blob/main/Python_New_Basics.ipynb\" target=\"_parent\"><img src=\"https://colab.research.google.com/assets/colab-badge.svg\" alt=\"Open In Colab\"/></a>"
      ]
    },
    {
      "cell_type": "markdown",
      "source": [
        "#**How to Make Tea - Act1**"
      ],
      "metadata": {
        "id": "wWCrnSeXtpnx"
      }
    },
    {
      "cell_type": "markdown",
      "source": [
        "**Steps**\n",
        "\n",
        "1.Boil water with milk\n",
        "\n",
        "2.Add tea leaves or tea bag.\n",
        "\n",
        "3.Add sugar as needed.\n",
        "\n",
        "4.Serve and enjoy."
      ],
      "metadata": {
        "id": "pit0kubjt6Ax"
      }
    },
    {
      "cell_type": "markdown",
      "source": [
        "**Flow charts**\n",
        "\n",
        "[Start] → [Boil Water(milk)] → [Add Tea bag] →  [Add sugar] → [Serve] → [End]"
      ],
      "metadata": {
        "id": "Qcdl9fHmu_Qa"
      }
    },
    {
      "cell_type": "markdown",
      "source": [
        "**Python Code**"
      ],
      "metadata": {
        "id": "GJgGGo5lvZUE"
      }
    },
    {
      "cell_type": "code",
      "source": [
        "print(\"How to Make Tea:\")\n",
        "print(\"1. Boil water with milk\")\n",
        "print(\"2. Add tea leaves or tea bag.\")\n",
        "print(\"3. Add sugar as needed.\")\n",
        "print(\"4. Serve and enjoy.\\n\")"
      ],
      "metadata": {
        "colab": {
          "base_uri": "https://localhost:8080/"
        },
        "id": "ZlRTIthIvXSx",
        "outputId": "3344a406-2a73-4b9e-d114-2ff3d52b3427",
        "collapsed": true
      },
      "execution_count": null,
      "outputs": [
        {
          "output_type": "stream",
          "name": "stdout",
          "text": [
            "How to Make Tea:\n",
            "1. Boil water with milk\n",
            "2. Add tea leaves or tea bag.\n",
            "3. Add sugar as needed.\n",
            "4. Serve and enjoy.\n",
            "\n"
          ]
        }
      ]
    },
    {
      "cell_type": "markdown",
      "source": [
        "#**How to wear Shoes**"
      ],
      "metadata": {
        "id": "RtNdpLmBv4S1"
      }
    },
    {
      "cell_type": "markdown",
      "source": [
        "**Steps**\n",
        "\n",
        "1.Pick your shoes.\n",
        "\n",
        "2.Sit on a chair or stand comfortably.\n",
        "\n",
        "3.Wear socks.\n",
        "\n",
        "4.Slide your foot into the shoe.\n",
        "\n",
        "5.Adjust the heel area.\n",
        "\n",
        "6.Tie laces.\n",
        "\n",
        "7.Repeat for the other foot."
      ],
      "metadata": {
        "id": "I26xdnnYwJq0"
      }
    },
    {
      "cell_type": "markdown",
      "source": [
        "**Flow Charts**\n",
        "\n",
        "[Start] → [Pick Shoes] → [Wear Socks] → [Put Foot In Shoe] → [Adjust Fit] → [Tie lace] → [Repeat for Other Foot] → [End]"
      ],
      "metadata": {
        "id": "FmZDdpn_xE4f"
      }
    },
    {
      "cell_type": "markdown",
      "source": [
        "**Python code**"
      ],
      "metadata": {
        "id": "_8H-Gta0xf9Z"
      }
    },
    {
      "cell_type": "code",
      "source": [
        "print(\"How to Wear Shoes:\")\n",
        "print(\"1. Pick your shoes.\")\n",
        "print(\"2. Sit on a chair or stand comfortably.\")\n",
        "print(\"3. Wear socks.\")\n",
        "print(\"4. Slide your foot into the shoe.\")\n",
        "print(\"5. Adjust the heel area.\")\n",
        "print(\"6. Tie laces.\")\n",
        "print(\"7. Repeat for the other foot.\\n\")"
      ],
      "metadata": {
        "colab": {
          "base_uri": "https://localhost:8080/"
        },
        "id": "6ZJAoLvDxmXR",
        "outputId": "ce21a281-49b9-4889-fd8f-212b0d24a16d",
        "collapsed": true
      },
      "execution_count": null,
      "outputs": [
        {
          "output_type": "stream",
          "name": "stdout",
          "text": [
            "How to Wear Shoes:\n",
            "1. Pick your shoes.\n",
            "2. Sit on a chair or stand comfortably.\n",
            "3. Wear socks.\n",
            "4. Slide your foot into the shoe.\n",
            "5. Adjust the heel area.\n",
            "6. Tie laces.\n",
            "7. Repeat for the other foot.\n",
            "\n"
          ]
        }
      ]
    },
    {
      "cell_type": "markdown",
      "source": [
        "#**How to Send WhatsApp Message**"
      ],
      "metadata": {
        "id": "Uchp-llZx-U8"
      }
    },
    {
      "cell_type": "markdown",
      "source": [
        "**Steps**\n",
        "\n",
        "1.Unlock your phone.\n",
        "\n",
        "2.Open WhatsApp app.\n",
        "\n",
        "3.Select the contact or group.\n",
        "\n",
        "4.Tap the text box.\n",
        "\n",
        "5.Type your message.\n",
        "\n",
        "6.Press the Send button."
      ],
      "metadata": {
        "id": "MMvuICqryH2o"
      }
    },
    {
      "cell_type": "markdown",
      "source": [
        "**Flow Charts**\n",
        "\n",
        "[Start] → [Unlock Phone] → [Open WhatsApp] → [Select Contact] → [Type Message] → [Press Send] → [End]"
      ],
      "metadata": {
        "id": "KccbjFiQyYEN"
      }
    },
    {
      "cell_type": "markdown",
      "source": [
        "**Python Coding**"
      ],
      "metadata": {
        "id": "Y61RcWerylag"
      }
    },
    {
      "cell_type": "code",
      "source": [
        "print(\"How to Send a WhatsApp Message:\")\n",
        "print(\"1. Unlock your phone.\")\n",
        "print(\"2. Open WhatsApp app.\")\n",
        "print(\"3. Select the contact or group.\")\n",
        "print(\"4. Tap the text box.\")\n",
        "print(\"5. Type your message.\")\n",
        "print(\"6. Press the Send button.\")"
      ],
      "metadata": {
        "colab": {
          "base_uri": "https://localhost:8080/"
        },
        "id": "iKJOtyasyq7u",
        "outputId": "3b842316-b917-4ee2-ec08-1755f9bceca7",
        "collapsed": true
      },
      "execution_count": null,
      "outputs": [
        {
          "output_type": "stream",
          "name": "stdout",
          "text": [
            "How to Send a WhatsApp Message:\n",
            "1. Unlock your phone.\n",
            "2. Open WhatsApp app.\n",
            "3. Select the contact or group.\n",
            "4. Tap the text box.\n",
            "5. Type your message.\n",
            "6. Press the Send button.\n"
          ]
        }
      ]
    },
    {
      "cell_type": "markdown",
      "source": [
        "#**Grocery Bill Calculation - Act2**"
      ],
      "metadata": {
        "id": "hZ6JUmwhiFOw"
      }
    },
    {
      "cell_type": "markdown",
      "source": [
        "Egg -Str = 52.0 - float\n",
        "\n",
        "rice-Str = 64.2 - float\n",
        "\n",
        "Oil-Str = 120.0 - float\n",
        "\n",
        "Masala-Str = 30 - int\n",
        "\n",
        "dal-Str= 186.4 - float"
      ],
      "metadata": {
        "id": "dPulSa7xiPYz"
      }
    },
    {
      "cell_type": "code",
      "source": [
        "Egg = 52.0\n",
        "rice = 64.2\n",
        "Oil = 120.0\n",
        "Masala = 30\n",
        "dal = 186.4\n",
        "\n",
        "Total_cost = Egg+rice+Oil+Masala+dal\n",
        "\n",
        "print(\"Egg =\",Egg)\n",
        "print(\"Rice =\",rice)\n",
        "print(\"Oil =\",Oil)\n",
        "print(\"Masala =\",Masala)\n",
        "print(\"dal =\",dal)\n",
        "print(\"Total cost of Grocery items = \",Total_cost)"
      ],
      "metadata": {
        "colab": {
          "base_uri": "https://localhost:8080/"
        },
        "collapsed": true,
        "id": "8H4kujfPjWWv",
        "outputId": "a8ea3dbe-9ffa-44cc-d0fd-e6949558d0b5"
      },
      "execution_count": 1,
      "outputs": [
        {
          "output_type": "stream",
          "name": "stdout",
          "text": [
            "Egg = 52.0\n",
            "Rice = 64.2\n",
            "Oil = 120.0\n",
            "Masala = 30\n",
            "dal = 186.4\n",
            "Total cost of Grocery items =  452.6\n"
          ]
        }
      ]
    },
    {
      "cell_type": "markdown",
      "source": [
        "#**Paper Game - Act3**"
      ],
      "metadata": {
        "id": "Q3jFj47_qBRw"
      }
    },
    {
      "cell_type": "code",
      "source": [
        "rain = 1\n",
        "if rain:\n",
        "    print(\"Take an umbrella\")\n",
        "else:\n",
        "    print(\"Wear sunglasses\")"
      ],
      "metadata": {
        "colab": {
          "base_uri": "https://localhost:8080/"
        },
        "id": "cnBBYGALk7G3",
        "outputId": "8c055fd6-0792-4a06-abaa-3bd5c67db9b8"
      },
      "execution_count": 4,
      "outputs": [
        {
          "output_type": "stream",
          "name": "stdout",
          "text": [
            "Take an umbrella\n"
          ]
        }
      ]
    },
    {
      "cell_type": "code",
      "source": [
        "marks = 40\n",
        "if (marks >= 40):\n",
        "  print(\"You Pass\")\n",
        "else:\n",
        "  print(\"you fail\")"
      ],
      "metadata": {
        "colab": {
          "base_uri": "https://localhost:8080/"
        },
        "id": "wWpk2tn6lBhA",
        "outputId": "762a80ea-0bf4-43c3-9ff4-3a7f1cf976e3"
      },
      "execution_count": 7,
      "outputs": [
        {
          "output_type": "stream",
          "name": "stdout",
          "text": [
            "You Pass\n"
          ]
        }
      ]
    },
    {
      "cell_type": "code",
      "source": [
        "Bill = 600\n",
        "if(Bill > 500):\n",
        "  discount = Bill * 0.10\n",
        "  Final_Bill = Bill - discount\n",
        "  print(\"Hey!!! you have 10% discount & total bill is:\",Final_Bill)\n",
        "else:\n",
        "  print(\"No discount Bill is:\",Bill)"
      ],
      "metadata": {
        "colab": {
          "base_uri": "https://localhost:8080/"
        },
        "id": "_S-N2kvIl4j-",
        "outputId": "0c93607c-6114-401d-9995-044e021cc162"
      },
      "execution_count": 10,
      "outputs": [
        {
          "output_type": "stream",
          "name": "stdout",
          "text": [
            "Hey!!! you have 10% discount & total bill is: 540.0\n"
          ]
        }
      ]
    },
    {
      "cell_type": "code",
      "source": [
        "Temp = 40\n",
        "if (Temp > 30):\n",
        "  print(\"Too hot\")\n",
        "else:\n",
        "  print(\"Nice Weather\")"
      ],
      "metadata": {
        "colab": {
          "base_uri": "https://localhost:8080/"
        },
        "id": "w8_WjGwSnq5Q",
        "outputId": "aa065967-54f2-4055-d0ac-ec7e222fd727"
      },
      "execution_count": 11,
      "outputs": [
        {
          "output_type": "stream",
          "name": "stdout",
          "text": [
            "Too hot\n"
          ]
        }
      ]
    },
    {
      "cell_type": "code",
      "source": [
        "age = 20\n",
        "if age < 13:\n",
        "  print(\"you are a child\")\n",
        "elif 13 <= age <= 19:\n",
        "  print(\"you are a teenager\")\n",
        "else:\n",
        "  print(\"you are a adult\")"
      ],
      "metadata": {
        "colab": {
          "base_uri": "https://localhost:8080/"
        },
        "id": "k64s2EXqoIuE",
        "outputId": "b26ea9e5-b6aa-4e10-c5fe-d8f3fc229eaa"
      },
      "execution_count": 15,
      "outputs": [
        {
          "output_type": "stream",
          "name": "stdout",
          "text": [
            "you are a adult\n"
          ]
        }
      ]
    },
    {
      "cell_type": "code",
      "source": [
        "mark = 65\n",
        "if (mark >= 90):\n",
        "  print(\"Grade A\")\n",
        "elif (mark >= 75):\n",
        "  print(\"Grade B\")\n",
        "elif (mark >= 50):\n",
        "  print(\"Grade C\")\n",
        "else:\n",
        "  print(\"Fail\")"
      ],
      "metadata": {
        "colab": {
          "base_uri": "https://localhost:8080/"
        },
        "id": "QVOs4Q6go-l4",
        "outputId": "f96be3e1-30b4-4a62-82f4-7e212e4462cc"
      },
      "execution_count": 16,
      "outputs": [
        {
          "output_type": "stream",
          "name": "stdout",
          "text": [
            "Grade C\n"
          ]
        }
      ]
    },
    {
      "cell_type": "markdown",
      "source": [
        "#**Activity - 4**"
      ],
      "metadata": {
        "id": "juR4tbKTqIBf"
      }
    },
    {
      "cell_type": "code",
      "source": [
        "#with loop\n",
        "num = 5\n",
        "for i in range(1,6):\n",
        "  print(i, \"X\", num,\"=\", i*num)"
      ],
      "metadata": {
        "colab": {
          "base_uri": "https://localhost:8080/"
        },
        "collapsed": true,
        "id": "e71D4gFzpqoz",
        "outputId": "d79c87b9-1f5b-42fd-b609-afc0459b87e0"
      },
      "execution_count": 22,
      "outputs": [
        {
          "output_type": "stream",
          "name": "stdout",
          "text": [
            "1 X 5 = 5\n",
            "2 X 5 = 10\n",
            "3 X 5 = 15\n",
            "4 X 5 = 20\n",
            "5 X 5 = 25\n"
          ]
        }
      ]
    },
    {
      "cell_type": "code",
      "source": [
        "#without loop\n",
        "\n",
        "num = 5\n",
        "print(num,\"x 1 =\",num*1)\n",
        "print(num,\"x 2 =\",num*2)\n",
        "print(num,\"x 3 =\",num*3)\n",
        "print(num,\"x 4 =\",num*4)\n",
        "print(num,\"x 5 =\",num*5)"
      ],
      "metadata": {
        "colab": {
          "base_uri": "https://localhost:8080/"
        },
        "collapsed": true,
        "id": "MmyngEnGq_71",
        "outputId": "980dafbd-3bac-4c45-b3c8-a27166f667a7"
      },
      "execution_count": 24,
      "outputs": [
        {
          "output_type": "stream",
          "name": "stdout",
          "text": [
            "5 x 1 = 5\n",
            "5 x 2 = 10\n",
            "5 x 3 = 15\n",
            "5 x 4 = 20\n",
            "5 x 5 = 25\n"
          ]
        }
      ]
    },
    {
      "cell_type": "code",
      "source": [
        "for i in range(0,21,2):\n",
        "  print(i)"
      ],
      "metadata": {
        "colab": {
          "base_uri": "https://localhost:8080/"
        },
        "collapsed": true,
        "id": "M_NRM7mFrkyH",
        "outputId": "65ad61db-5a9c-4a81-e8a9-25e65098f32f"
      },
      "execution_count": 29,
      "outputs": [
        {
          "output_type": "stream",
          "name": "stdout",
          "text": [
            "0\n",
            "2\n",
            "4\n",
            "6\n",
            "8\n",
            "10\n",
            "12\n",
            "14\n",
            "16\n",
            "18\n",
            "20\n"
          ]
        }
      ]
    },
    {
      "cell_type": "code",
      "source": [
        "i = 0\n",
        "while i <= 20:\n",
        "    print(i)\n",
        "    i += 2"
      ],
      "metadata": {
        "colab": {
          "base_uri": "https://localhost:8080/"
        },
        "collapsed": true,
        "id": "CvQsB8hNsqTR",
        "outputId": "80a6b55b-f9f2-45e9-e636-bfd2ed9732b5"
      },
      "execution_count": 30,
      "outputs": [
        {
          "output_type": "stream",
          "name": "stdout",
          "text": [
            "0\n",
            "2\n",
            "4\n",
            "6\n",
            "8\n",
            "10\n",
            "12\n",
            "14\n",
            "16\n",
            "18\n",
            "20\n"
          ]
        }
      ]
    },
    {
      "cell_type": "code",
      "source": [
        "frnd_list = [\"Deepi\",\"Anand\",\"Meera\",\"Akku\",\"Radha\"]\n",
        "for name in frnd_list:\n",
        "  print(\"Chocolate given to\",name)"
      ],
      "metadata": {
        "colab": {
          "base_uri": "https://localhost:8080/"
        },
        "collapsed": true,
        "id": "kUIT4JOps_Ck",
        "outputId": "4d8c36cc-17d9-41e0-919b-a3bb5b307147"
      },
      "execution_count": 31,
      "outputs": [
        {
          "output_type": "stream",
          "name": "stdout",
          "text": [
            "Chocolate given to Deepi\n",
            "Chocolate given to Anand\n",
            "Chocolate given to Meera\n",
            "Chocolate given to Akku\n",
            "Chocolate given to Radha\n"
          ]
        }
      ]
    }
  ]
}