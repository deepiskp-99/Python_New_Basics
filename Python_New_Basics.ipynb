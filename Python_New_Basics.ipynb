{
  "nbformat": 4,
  "nbformat_minor": 0,
  "metadata": {
    "colab": {
      "provenance": [],
      "authorship_tag": "ABX9TyN+QxJnLE5LYULEe3V+FCDG",
      "include_colab_link": true
    },
    "kernelspec": {
      "name": "python3",
      "display_name": "Python 3"
    },
    "language_info": {
      "name": "python"
    }
  },
  "cells": [
    {
      "cell_type": "markdown",
      "metadata": {
        "id": "view-in-github",
        "colab_type": "text"
      },
      "source": [
        "<a href=\"https://colab.research.google.com/github/deepiskp-99/Python_New_Basics/blob/main/Python_New_Basics.ipynb\" target=\"_parent\"><img src=\"https://colab.research.google.com/assets/colab-badge.svg\" alt=\"Open In Colab\"/></a>"
      ]
    },
    {
      "cell_type": "markdown",
      "source": [
        "#**How to Make Tea**"
      ],
      "metadata": {
        "id": "wWCrnSeXtpnx"
      }
    },
    {
      "cell_type": "markdown",
      "source": [
        "**Steps**\n",
        "\n",
        "1.Boil water with milk\n",
        "\n",
        "2.Add tea leaves or tea bag.\n",
        "\n",
        "3.Add sugar as needed.\n",
        "\n",
        "4.Serve and enjoy."
      ],
      "metadata": {
        "id": "pit0kubjt6Ax"
      }
    },
    {
      "cell_type": "markdown",
      "source": [
        "**Flow charts**\n",
        "\n",
        "[Start] → [Boil Water(milk)] → [Add Tea bag] →  [Add sugar] → [Serve] → [End]"
      ],
      "metadata": {
        "id": "Qcdl9fHmu_Qa"
      }
    },
    {
      "cell_type": "markdown",
      "source": [
        "**Python Code**"
      ],
      "metadata": {
        "id": "GJgGGo5lvZUE"
      }
    },
    {
      "cell_type": "code",
      "source": [
        "print(\"How to Make Tea:\")\n",
        "print(\"1. Boil water with milk\")\n",
        "print(\"2. Add tea leaves or tea bag.\")\n",
        "print(\"3. Add sugar as needed.\")\n",
        "print(\"4. Serve and enjoy.\\n\")"
      ],
      "metadata": {
        "colab": {
          "base_uri": "https://localhost:8080/"
        },
        "id": "ZlRTIthIvXSx",
        "outputId": "3344a406-2a73-4b9e-d114-2ff3d52b3427"
      },
      "execution_count": 1,
      "outputs": [
        {
          "output_type": "stream",
          "name": "stdout",
          "text": [
            "How to Make Tea:\n",
            "1. Boil water with milk\n",
            "2. Add tea leaves or tea bag.\n",
            "3. Add sugar as needed.\n",
            "4. Serve and enjoy.\n",
            "\n"
          ]
        }
      ]
    },
    {
      "cell_type": "markdown",
      "source": [
        "#**How to wear Shoes**"
      ],
      "metadata": {
        "id": "RtNdpLmBv4S1"
      }
    },
    {
      "cell_type": "markdown",
      "source": [
        "**Steps**\n",
        "\n",
        "1.Pick your shoes.\n",
        "\n",
        "2.Sit on a chair or stand comfortably.\n",
        "\n",
        "3.Wear socks.\n",
        "\n",
        "4.Slide your foot into the shoe.\n",
        "\n",
        "5.Adjust the heel area.\n",
        "\n",
        "6.Tie laces.\n",
        "\n",
        "7.Repeat for the other foot."
      ],
      "metadata": {
        "id": "I26xdnnYwJq0"
      }
    },
    {
      "cell_type": "markdown",
      "source": [
        "**Flow Charts**\n",
        "\n",
        "[Start] → [Pick Shoes] → [Wear Socks] → [Put Foot In Shoe] → [Adjust Fit] → [Tie lace] → [Repeat for Other Foot] → [End]"
      ],
      "metadata": {
        "id": "FmZDdpn_xE4f"
      }
    },
    {
      "cell_type": "markdown",
      "source": [
        "**Python code**"
      ],
      "metadata": {
        "id": "_8H-Gta0xf9Z"
      }
    },
    {
      "cell_type": "code",
      "source": [
        "print(\"How to Wear Shoes:\")\n",
        "print(\"1. Pick your shoes.\")\n",
        "print(\"2. Sit on a chair or stand comfortably.\")\n",
        "print(\"3. Wear socks.\")\n",
        "print(\"4. Slide your foot into the shoe.\")\n",
        "print(\"5. Adjust the heel area.\")\n",
        "print(\"6. Tie laces.\")\n",
        "print(\"7. Repeat for the other foot.\\n\")"
      ],
      "metadata": {
        "colab": {
          "base_uri": "https://localhost:8080/"
        },
        "id": "6ZJAoLvDxmXR",
        "outputId": "ce21a281-49b9-4889-fd8f-212b0d24a16d"
      },
      "execution_count": 2,
      "outputs": [
        {
          "output_type": "stream",
          "name": "stdout",
          "text": [
            "How to Wear Shoes:\n",
            "1. Pick your shoes.\n",
            "2. Sit on a chair or stand comfortably.\n",
            "3. Wear socks.\n",
            "4. Slide your foot into the shoe.\n",
            "5. Adjust the heel area.\n",
            "6. Tie laces.\n",
            "7. Repeat for the other foot.\n",
            "\n"
          ]
        }
      ]
    },
    {
      "cell_type": "markdown",
      "source": [
        "#**How to Send WhatsApp Message**"
      ],
      "metadata": {
        "id": "Uchp-llZx-U8"
      }
    },
    {
      "cell_type": "markdown",
      "source": [
        "**Steps**\n",
        "\n",
        "1.Unlock your phone.\n",
        "\n",
        "2.Open WhatsApp app.\n",
        "\n",
        "3.Select the contact or group.\n",
        "\n",
        "4.Tap the text box.\n",
        "\n",
        "5.Type your message.\n",
        "\n",
        "6.Press the Send button."
      ],
      "metadata": {
        "id": "MMvuICqryH2o"
      }
    },
    {
      "cell_type": "markdown",
      "source": [
        "**Flow Charts**\n",
        "\n",
        "[Start] → [Unlock Phone] → [Open WhatsApp] → [Select Contact] → [Type Message] → [Press Send] → [End]"
      ],
      "metadata": {
        "id": "KccbjFiQyYEN"
      }
    },
    {
      "cell_type": "markdown",
      "source": [
        "**Python Coding**"
      ],
      "metadata": {
        "id": "Y61RcWerylag"
      }
    },
    {
      "cell_type": "code",
      "source": [
        "print(\"How to Send a WhatsApp Message:\")\n",
        "print(\"1. Unlock your phone.\")\n",
        "print(\"2. Open WhatsApp app.\")\n",
        "print(\"3. Select the contact or group.\")\n",
        "print(\"4. Tap the text box.\")\n",
        "print(\"5. Type your message.\")\n",
        "print(\"6. Press the Send button.\")"
      ],
      "metadata": {
        "colab": {
          "base_uri": "https://localhost:8080/"
        },
        "id": "iKJOtyasyq7u",
        "outputId": "3b842316-b917-4ee2-ec08-1755f9bceca7"
      },
      "execution_count": 3,
      "outputs": [
        {
          "output_type": "stream",
          "name": "stdout",
          "text": [
            "How to Send a WhatsApp Message:\n",
            "1. Unlock your phone.\n",
            "2. Open WhatsApp app.\n",
            "3. Select the contact or group.\n",
            "4. Tap the text box.\n",
            "5. Type your message.\n",
            "6. Press the Send button.\n"
          ]
        }
      ]
    }
  ]
}